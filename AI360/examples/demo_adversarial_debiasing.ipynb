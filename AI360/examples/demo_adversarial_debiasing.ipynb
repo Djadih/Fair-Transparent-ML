{
 "cells": [
  {
   "cell_type": "markdown",
   "metadata": {},
   "source": [
    "#### This notebook demonstrates the use of adversarial debiasing algorithm to learn a fair classifier.\n",
    "Adversarial debiasing [1] is an in-processing technique that learns a classifier to maximize prediction accuracy and simultaneously reduce an adversary's ability to determine the protected attribute from the predictions. This approach leads to a fair classifier as the predictions cannot carry any group discrimination information that the adversary can exploit. We will see how to use this algorithm for learning models with and without fairness constraints and apply them on the Adult dataset."
   ]
  },
  {
   "cell_type": "code",
   "execution_count": 1,
   "metadata": {},
   "outputs": [
    {
     "name": "stderr",
     "output_type": "stream",
     "text": [
      "WARNING:root:No module named 'tempeh': LawSchoolGPADataset will be unavailable. To install, run:\n",
      "pip install 'aif360[LawSchoolGPA]'\n",
      "2022-11-08 10:41:05.064250: I tensorflow/core/platform/cpu_feature_guard.cc:193] This TensorFlow binary is optimized with oneAPI Deep Neural Network Library (oneDNN) to use the following CPU instructions in performance-critical operations:  SSE4.1 SSE4.2 AVX AVX2 FMA\n",
      "To enable them in other operations, rebuild TensorFlow with the appropriate compiler flags.\n",
      "WARNING:root:No module named 'fairlearn': ExponentiatedGradientReduction will be unavailable. To install, run:\n",
      "pip install 'aif360[Reductions]'\n",
      "WARNING:root:No module named 'fairlearn': GridSearchReduction will be unavailable. To install, run:\n",
      "pip install 'aif360[Reductions]'\n",
      "WARNING:root:No module named 'fairlearn': GridSearchReduction will be unavailable. To install, run:\n",
      "pip install 'aif360[Reductions]'\n"
     ]
    }
   ],
   "source": [
    "%matplotlib inline\n",
    "# Load all necessary packages\n",
    "import sys\n",
    "sys.path.append(\"../\")\n",
    "from aif360.datasets import BinaryLabelDataset\n",
    "from aif360.datasets import AdultDataset, GermanDataset, CompasDataset\n",
    "from aif360.metrics import BinaryLabelDatasetMetric\n",
    "from aif360.metrics import ClassificationMetric\n",
    "from aif360.metrics.utils import compute_boolean_conditioning_vector\n",
    "\n",
    "from aif360.algorithms.preprocessing.optim_preproc_helpers.data_preproc_functions import load_preproc_data_adult, load_preproc_data_compas, load_preproc_data_german\n",
    "\n",
    "from aif360.algorithms.inprocessing.adversarial_debiasing import AdversarialDebiasing\n",
    "\n",
    "from sklearn.linear_model import LogisticRegression\n",
    "from sklearn.preprocessing import StandardScaler, MaxAbsScaler\n",
    "from sklearn.metrics import accuracy_score\n",
    "\n",
    "from IPython.display import Markdown, display\n",
    "import matplotlib.pyplot as plt\n",
    "\n",
    "import tensorflow.compat.v1 as tf\n",
    "tf.disable_eager_execution()"
   ]
  },
  {
   "cell_type": "markdown",
   "metadata": {},
   "source": [
    "#### Load dataset and set options"
   ]
  },
  {
   "cell_type": "code",
   "execution_count": 2,
   "metadata": {},
   "outputs": [],
   "source": [
    "# Get the dataset and split into train and test\n",
    "dataset_orig = load_preproc_data_adult()\n",
    "\n",
    "privileged_groups = [{'sex': 1}]\n",
    "unprivileged_groups = [{'sex': 0}]\n",
    "\n",
    "dataset_orig_train, dataset_orig_test = dataset_orig.split([0.7], shuffle=True)"
   ]
  },
  {
   "cell_type": "code",
   "execution_count": 3,
   "metadata": {},
   "outputs": [
    {
     "data": {
      "text/markdown": [
       "#### Training Dataset shape"
      ],
      "text/plain": [
       "<IPython.core.display.Markdown object>"
      ]
     },
     "metadata": {},
     "output_type": "display_data"
    },
    {
     "name": "stdout",
     "output_type": "stream",
     "text": [
      "(34189, 18)\n"
     ]
    },
    {
     "data": {
      "text/markdown": [
       "#### Favorable and unfavorable labels"
      ],
      "text/plain": [
       "<IPython.core.display.Markdown object>"
      ]
     },
     "metadata": {},
     "output_type": "display_data"
    },
    {
     "name": "stdout",
     "output_type": "stream",
     "text": [
      "1.0 0.0\n"
     ]
    },
    {
     "data": {
      "text/markdown": [
       "#### Protected attribute names"
      ],
      "text/plain": [
       "<IPython.core.display.Markdown object>"
      ]
     },
     "metadata": {},
     "output_type": "display_data"
    },
    {
     "name": "stdout",
     "output_type": "stream",
     "text": [
      "['sex', 'race']\n"
     ]
    },
    {
     "data": {
      "text/markdown": [
       "#### Privileged and unprivileged protected attribute values"
      ],
      "text/plain": [
       "<IPython.core.display.Markdown object>"
      ]
     },
     "metadata": {},
     "output_type": "display_data"
    },
    {
     "name": "stdout",
     "output_type": "stream",
     "text": [
      "[array([1.]), array([1.])] [array([0.]), array([0.])]\n"
     ]
    },
    {
     "data": {
      "text/markdown": [
       "#### Dataset feature names"
      ],
      "text/plain": [
       "<IPython.core.display.Markdown object>"
      ]
     },
     "metadata": {},
     "output_type": "display_data"
    },
    {
     "name": "stdout",
     "output_type": "stream",
     "text": [
      "['race', 'sex', 'Age (decade)=10', 'Age (decade)=20', 'Age (decade)=30', 'Age (decade)=40', 'Age (decade)=50', 'Age (decade)=60', 'Age (decade)=>=70', 'Education Years=6', 'Education Years=7', 'Education Years=8', 'Education Years=9', 'Education Years=10', 'Education Years=11', 'Education Years=12', 'Education Years=<6', 'Education Years=>12']\n"
     ]
    }
   ],
   "source": [
    "# print out some labels, names, etc.\n",
    "display(Markdown(\"#### Training Dataset shape\"))\n",
    "print(dataset_orig_train.features.shape)\n",
    "display(Markdown(\"#### Favorable and unfavorable labels\"))\n",
    "print(dataset_orig_train.favorable_label, dataset_orig_train.unfavorable_label)\n",
    "display(Markdown(\"#### Protected attribute names\"))\n",
    "print(dataset_orig_train.protected_attribute_names)\n",
    "display(Markdown(\"#### Privileged and unprivileged protected attribute values\"))\n",
    "print(dataset_orig_train.privileged_protected_attributes, \n",
    "      dataset_orig_train.unprivileged_protected_attributes)\n",
    "display(Markdown(\"#### Dataset feature names\"))\n",
    "print(dataset_orig_train.feature_names)"
   ]
  },
  {
   "cell_type": "markdown",
   "metadata": {},
   "source": [
    "#### Metric for original training data"
   ]
  },
  {
   "cell_type": "code",
   "execution_count": 4,
   "metadata": {},
   "outputs": [
    {
     "data": {
      "text/markdown": [
       "#### Original training dataset"
      ],
      "text/plain": [
       "<IPython.core.display.Markdown object>"
      ]
     },
     "metadata": {},
     "output_type": "display_data"
    },
    {
     "name": "stdout",
     "output_type": "stream",
     "text": [
      "Train set: Difference in mean outcomes between unprivileged and privileged groups = -0.190048\n",
      "Test set: Difference in mean outcomes between unprivileged and privileged groups = -0.204950\n"
     ]
    }
   ],
   "source": [
    "# Metric for the original dataset\n",
    "metric_orig_train = BinaryLabelDatasetMetric(dataset_orig_train, \n",
    "                                             unprivileged_groups=unprivileged_groups,\n",
    "                                             privileged_groups=privileged_groups)\n",
    "display(Markdown(\"#### Original training dataset\"))\n",
    "print(\"Train set: Difference in mean outcomes between unprivileged and privileged groups = %f\" % metric_orig_train.mean_difference())\n",
    "metric_orig_test = BinaryLabelDatasetMetric(dataset_orig_test, \n",
    "                                             unprivileged_groups=unprivileged_groups,\n",
    "                                             privileged_groups=privileged_groups)\n",
    "print(\"Test set: Difference in mean outcomes between unprivileged and privileged groups = %f\" % metric_orig_test.mean_difference())"
   ]
  },
  {
   "cell_type": "code",
   "execution_count": 5,
   "metadata": {},
   "outputs": [
    {
     "data": {
      "text/markdown": [
       "#### Scaled dataset - Verify that the scaling does not affect the group label statistics"
      ],
      "text/plain": [
       "<IPython.core.display.Markdown object>"
      ]
     },
     "metadata": {},
     "output_type": "display_data"
    },
    {
     "name": "stdout",
     "output_type": "stream",
     "text": [
      "Train set: Difference in mean outcomes between unprivileged and privileged groups = -0.190048\n",
      "Test set: Difference in mean outcomes between unprivileged and privileged groups = -0.204950\n"
     ]
    }
   ],
   "source": [
    "min_max_scaler = MaxAbsScaler()\n",
    "dataset_orig_train.features = min_max_scaler.fit_transform(dataset_orig_train.features)\n",
    "dataset_orig_test.features = min_max_scaler.transform(dataset_orig_test.features)\n",
    "metric_scaled_train = BinaryLabelDatasetMetric(dataset_orig_train, \n",
    "                             unprivileged_groups=unprivileged_groups,\n",
    "                             privileged_groups=privileged_groups)\n",
    "display(Markdown(\"#### Scaled dataset - Verify that the scaling does not affect the group label statistics\"))\n",
    "print(\"Train set: Difference in mean outcomes between unprivileged and privileged groups = %f\" % metric_scaled_train.mean_difference())\n",
    "metric_scaled_test = BinaryLabelDatasetMetric(dataset_orig_test, \n",
    "                             unprivileged_groups=unprivileged_groups,\n",
    "                             privileged_groups=privileged_groups)\n",
    "print(\"Test set: Difference in mean outcomes between unprivileged and privileged groups = %f\" % metric_scaled_test.mean_difference())\n"
   ]
  },
  {
   "cell_type": "markdown",
   "metadata": {},
   "source": [
    "### Learn plan classifier without debiasing"
   ]
  },
  {
   "cell_type": "code",
   "execution_count": 6,
   "metadata": {},
   "outputs": [
    {
     "name": "stderr",
     "output_type": "stream",
     "text": [
      "2022-11-08 10:41:23.568318: I tensorflow/core/platform/cpu_feature_guard.cc:193] This TensorFlow binary is optimized with oneAPI Deep Neural Network Library (oneDNN) to use the following CPU instructions in performance-critical operations:  SSE4.1 SSE4.2 AVX AVX2 FMA\n",
      "To enable them in other operations, rebuild TensorFlow with the appropriate compiler flags.\n"
     ]
    }
   ],
   "source": [
    "# Load post-processing algorithm that equalizes the odds\n",
    "# Learn parameters with debias set to False\n",
    "sess = tf.Session()\n",
    "plain_model = AdversarialDebiasing(privileged_groups = privileged_groups,\n",
    "                          unprivileged_groups = unprivileged_groups,\n",
    "                          scope_name='plain_classifier',\n",
    "                          debias=False,\n",
    "                          sess=sess)"
   ]
  },
  {
   "cell_type": "code",
   "execution_count": 7,
   "metadata": {
    "scrolled": true
   },
   "outputs": [
    {
     "name": "stderr",
     "output_type": "stream",
     "text": [
      "WARNING:tensorflow:From /opt/anaconda3/envs/fair-ML/lib/python3.10/site-packages/tensorflow/python/util/dispatch.py:1176: calling dropout (from tensorflow.python.ops.nn_ops) with keep_prob is deprecated and will be removed in a future version.\n",
      "Instructions for updating:\n",
      "Please use `rate` instead of `keep_prob`. Rate should be set to `rate = 1 - keep_prob`.\n",
      "2022-11-08 10:41:24.869780: I tensorflow/compiler/mlir/mlir_graph_optimization_pass.cc:354] MLIR V1 optimization pass is not enabled\n"
     ]
    },
    {
     "name": "stdout",
     "output_type": "stream",
     "text": [
      "epoch 0; iter: 0; batch classifier loss: 0.715664\n",
      "epoch 0; iter: 200; batch classifier loss: 0.401876\n",
      "epoch 1; iter: 0; batch classifier loss: 0.472337\n",
      "epoch 1; iter: 200; batch classifier loss: 0.428070\n",
      "epoch 2; iter: 0; batch classifier loss: 0.467547\n",
      "epoch 2; iter: 200; batch classifier loss: 0.424293\n",
      "epoch 3; iter: 0; batch classifier loss: 0.346227\n",
      "epoch 3; iter: 200; batch classifier loss: 0.493223\n",
      "epoch 4; iter: 0; batch classifier loss: 0.475000\n",
      "epoch 4; iter: 200; batch classifier loss: 0.366981\n",
      "epoch 5; iter: 0; batch classifier loss: 0.478857\n",
      "epoch 5; iter: 200; batch classifier loss: 0.494941\n",
      "epoch 6; iter: 0; batch classifier loss: 0.454289\n",
      "epoch 6; iter: 200; batch classifier loss: 0.393286\n",
      "epoch 7; iter: 0; batch classifier loss: 0.441201\n",
      "epoch 7; iter: 200; batch classifier loss: 0.467488\n",
      "epoch 8; iter: 0; batch classifier loss: 0.390905\n",
      "epoch 8; iter: 200; batch classifier loss: 0.363741\n",
      "epoch 9; iter: 0; batch classifier loss: 0.398306\n",
      "epoch 9; iter: 200; batch classifier loss: 0.415475\n",
      "epoch 10; iter: 0; batch classifier loss: 0.433978\n",
      "epoch 10; iter: 200; batch classifier loss: 0.514877\n",
      "epoch 11; iter: 0; batch classifier loss: 0.454566\n",
      "epoch 11; iter: 200; batch classifier loss: 0.504081\n",
      "epoch 12; iter: 0; batch classifier loss: 0.406708\n",
      "epoch 12; iter: 200; batch classifier loss: 0.403727\n",
      "epoch 13; iter: 0; batch classifier loss: 0.418785\n",
      "epoch 13; iter: 200; batch classifier loss: 0.454247\n",
      "epoch 14; iter: 0; batch classifier loss: 0.429254\n",
      "epoch 14; iter: 200; batch classifier loss: 0.389714\n",
      "epoch 15; iter: 0; batch classifier loss: 0.484172\n",
      "epoch 15; iter: 200; batch classifier loss: 0.397018\n",
      "epoch 16; iter: 0; batch classifier loss: 0.388422\n",
      "epoch 16; iter: 200; batch classifier loss: 0.412537\n",
      "epoch 17; iter: 0; batch classifier loss: 0.356527\n",
      "epoch 17; iter: 200; batch classifier loss: 0.364014\n",
      "epoch 18; iter: 0; batch classifier loss: 0.480538\n",
      "epoch 18; iter: 200; batch classifier loss: 0.344966\n",
      "epoch 19; iter: 0; batch classifier loss: 0.440285\n",
      "epoch 19; iter: 200; batch classifier loss: 0.335406\n",
      "epoch 20; iter: 0; batch classifier loss: 0.511575\n",
      "epoch 20; iter: 200; batch classifier loss: 0.469391\n",
      "epoch 21; iter: 0; batch classifier loss: 0.441785\n",
      "epoch 21; iter: 200; batch classifier loss: 0.418515\n",
      "epoch 22; iter: 0; batch classifier loss: 0.407252\n",
      "epoch 22; iter: 200; batch classifier loss: 0.374603\n",
      "epoch 23; iter: 0; batch classifier loss: 0.423418\n",
      "epoch 23; iter: 200; batch classifier loss: 0.361209\n",
      "epoch 24; iter: 0; batch classifier loss: 0.455070\n",
      "epoch 24; iter: 200; batch classifier loss: 0.512402\n",
      "epoch 25; iter: 0; batch classifier loss: 0.381154\n",
      "epoch 25; iter: 200; batch classifier loss: 0.436763\n",
      "epoch 26; iter: 0; batch classifier loss: 0.367093\n",
      "epoch 26; iter: 200; batch classifier loss: 0.461103\n",
      "epoch 27; iter: 0; batch classifier loss: 0.403976\n",
      "epoch 27; iter: 200; batch classifier loss: 0.503789\n",
      "epoch 28; iter: 0; batch classifier loss: 0.373665\n",
      "epoch 28; iter: 200; batch classifier loss: 0.379342\n",
      "epoch 29; iter: 0; batch classifier loss: 0.379457\n",
      "epoch 29; iter: 200; batch classifier loss: 0.497721\n",
      "epoch 30; iter: 0; batch classifier loss: 0.398878\n",
      "epoch 30; iter: 200; batch classifier loss: 0.424069\n",
      "epoch 31; iter: 0; batch classifier loss: 0.402080\n",
      "epoch 31; iter: 200; batch classifier loss: 0.432200\n",
      "epoch 32; iter: 0; batch classifier loss: 0.391429\n",
      "epoch 32; iter: 200; batch classifier loss: 0.425308\n",
      "epoch 33; iter: 0; batch classifier loss: 0.438216\n",
      "epoch 33; iter: 200; batch classifier loss: 0.376234\n",
      "epoch 34; iter: 0; batch classifier loss: 0.375790\n",
      "epoch 34; iter: 200; batch classifier loss: 0.476517\n",
      "epoch 35; iter: 0; batch classifier loss: 0.494883\n",
      "epoch 35; iter: 200; batch classifier loss: 0.454139\n",
      "epoch 36; iter: 0; batch classifier loss: 0.426276\n",
      "epoch 36; iter: 200; batch classifier loss: 0.461128\n",
      "epoch 37; iter: 0; batch classifier loss: 0.377265\n",
      "epoch 37; iter: 200; batch classifier loss: 0.439540\n",
      "epoch 38; iter: 0; batch classifier loss: 0.389909\n",
      "epoch 38; iter: 200; batch classifier loss: 0.468705\n",
      "epoch 39; iter: 0; batch classifier loss: 0.399361\n",
      "epoch 39; iter: 200; batch classifier loss: 0.472128\n",
      "epoch 40; iter: 0; batch classifier loss: 0.413850\n",
      "epoch 40; iter: 200; batch classifier loss: 0.410815\n",
      "epoch 41; iter: 0; batch classifier loss: 0.388006\n",
      "epoch 41; iter: 200; batch classifier loss: 0.391662\n",
      "epoch 42; iter: 0; batch classifier loss: 0.381446\n",
      "epoch 42; iter: 200; batch classifier loss: 0.457231\n",
      "epoch 43; iter: 0; batch classifier loss: 0.431822\n",
      "epoch 43; iter: 200; batch classifier loss: 0.413497\n",
      "epoch 44; iter: 0; batch classifier loss: 0.480397\n",
      "epoch 44; iter: 200; batch classifier loss: 0.434098\n",
      "epoch 45; iter: 0; batch classifier loss: 0.321981\n",
      "epoch 45; iter: 200; batch classifier loss: 0.419807\n",
      "epoch 46; iter: 0; batch classifier loss: 0.388824\n",
      "epoch 46; iter: 200; batch classifier loss: 0.409989\n",
      "epoch 47; iter: 0; batch classifier loss: 0.487370\n",
      "epoch 47; iter: 200; batch classifier loss: 0.440485\n",
      "epoch 48; iter: 0; batch classifier loss: 0.364947\n",
      "epoch 48; iter: 200; batch classifier loss: 0.345558\n",
      "epoch 49; iter: 0; batch classifier loss: 0.412132\n",
      "epoch 49; iter: 200; batch classifier loss: 0.392198\n"
     ]
    },
    {
     "data": {
      "text/plain": [
       "<aif360.algorithms.inprocessing.adversarial_debiasing.AdversarialDebiasing at 0x7facf06d1cc0>"
      ]
     },
     "execution_count": 7,
     "metadata": {},
     "output_type": "execute_result"
    }
   ],
   "source": [
    "plain_model.fit(dataset_orig_train)"
   ]
  },
  {
   "cell_type": "code",
   "execution_count": 8,
   "metadata": {},
   "outputs": [],
   "source": [
    "# Apply the plain model to test data\n",
    "dataset_nodebiasing_train = plain_model.predict(dataset_orig_train)\n",
    "dataset_nodebiasing_test = plain_model.predict(dataset_orig_test)"
   ]
  },
  {
   "cell_type": "code",
   "execution_count": 9,
   "metadata": {},
   "outputs": [
    {
     "data": {
      "text/markdown": [
       "#### Plain model - without debiasing - dataset metrics"
      ],
      "text/plain": [
       "<IPython.core.display.Markdown object>"
      ]
     },
     "metadata": {},
     "output_type": "display_data"
    },
    {
     "name": "stdout",
     "output_type": "stream",
     "text": [
      "Train set: Difference in mean outcomes between unprivileged and privileged groups = -0.209759\n",
      "Test set: Difference in mean outcomes between unprivileged and privileged groups = -0.208469\n"
     ]
    },
    {
     "data": {
      "text/markdown": [
       "#### Plain model - without debiasing - classification metrics"
      ],
      "text/plain": [
       "<IPython.core.display.Markdown object>"
      ]
     },
     "metadata": {},
     "output_type": "display_data"
    },
    {
     "name": "stdout",
     "output_type": "stream",
     "text": [
      "Test set: Classification accuracy = 0.804340\n",
      "Test set: Balanced classification accuracy = 0.659100\n",
      "Test set: Disparate impact = 0.000000\n",
      "Test set: Equal opportunity difference = -0.444296\n",
      "Test set: Average odds difference = -0.274412\n",
      "Test set: Theil_index = 0.178448\n"
     ]
    }
   ],
   "source": [
    "# Metrics for the dataset from plain model (without debiasing)\n",
    "display(Markdown(\"#### Plain model - without debiasing - dataset metrics\"))\n",
    "metric_dataset_nodebiasing_train = BinaryLabelDatasetMetric(dataset_nodebiasing_train, \n",
    "                                             unprivileged_groups=unprivileged_groups,\n",
    "                                             privileged_groups=privileged_groups)\n",
    "\n",
    "print(\"Train set: Difference in mean outcomes between unprivileged and privileged groups = %f\" % metric_dataset_nodebiasing_train.mean_difference())\n",
    "\n",
    "metric_dataset_nodebiasing_test = BinaryLabelDatasetMetric(dataset_nodebiasing_test, \n",
    "                                             unprivileged_groups=unprivileged_groups,\n",
    "                                             privileged_groups=privileged_groups)\n",
    "\n",
    "print(\"Test set: Difference in mean outcomes between unprivileged and privileged groups = %f\" % metric_dataset_nodebiasing_test.mean_difference())\n",
    "\n",
    "display(Markdown(\"#### Plain model - without debiasing - classification metrics\"))\n",
    "classified_metric_nodebiasing_test = ClassificationMetric(dataset_orig_test, \n",
    "                                                 dataset_nodebiasing_test,\n",
    "                                                 unprivileged_groups=unprivileged_groups,\n",
    "                                                 privileged_groups=privileged_groups)\n",
    "print(\"Test set: Classification accuracy = %f\" % classified_metric_nodebiasing_test.accuracy())\n",
    "TPR = classified_metric_nodebiasing_test.true_positive_rate()\n",
    "TNR = classified_metric_nodebiasing_test.true_negative_rate()\n",
    "bal_acc_nodebiasing_test = 0.5*(TPR+TNR)\n",
    "print(\"Test set: Balanced classification accuracy = %f\" % bal_acc_nodebiasing_test)\n",
    "print(\"Test set: Disparate impact = %f\" % classified_metric_nodebiasing_test.disparate_impact())\n",
    "print(\"Test set: Equal opportunity difference = %f\" % classified_metric_nodebiasing_test.equal_opportunity_difference())\n",
    "print(\"Test set: Average odds difference = %f\" % classified_metric_nodebiasing_test.average_odds_difference())\n",
    "print(\"Test set: Theil_index = %f\" % classified_metric_nodebiasing_test.theil_index())"
   ]
  },
  {
   "cell_type": "markdown",
   "metadata": {},
   "source": [
    "### Apply in-processing algorithm based on adversarial learning"
   ]
  },
  {
   "cell_type": "code",
   "execution_count": 10,
   "metadata": {},
   "outputs": [],
   "source": [
    "sess.close()\n",
    "tf.reset_default_graph()\n",
    "sess = tf.Session()"
   ]
  },
  {
   "cell_type": "code",
   "execution_count": 11,
   "metadata": {},
   "outputs": [],
   "source": [
    "# Learn parameters with debias set to True\n",
    "debiased_model = AdversarialDebiasing(privileged_groups = privileged_groups,\n",
    "                          unprivileged_groups = unprivileged_groups,\n",
    "                          scope_name='debiased_classifier',\n",
    "                          debias=True,\n",
    "                          sess=sess)"
   ]
  },
  {
   "cell_type": "code",
   "execution_count": 12,
   "metadata": {
    "scrolled": true
   },
   "outputs": [
    {
     "name": "stdout",
     "output_type": "stream",
     "text": [
      "epoch 0; iter: 0; batch classifier loss: 0.753756; batch adversarial loss: 0.668424\n",
      "epoch 0; iter: 200; batch classifier loss: 0.483547; batch adversarial loss: 0.619609\n",
      "epoch 1; iter: 0; batch classifier loss: 0.425417; batch adversarial loss: 0.609563\n",
      "epoch 1; iter: 200; batch classifier loss: 0.477946; batch adversarial loss: 0.631051\n",
      "epoch 2; iter: 0; batch classifier loss: 0.418695; batch adversarial loss: 0.657205\n",
      "epoch 2; iter: 200; batch classifier loss: 0.448517; batch adversarial loss: 0.664561\n",
      "epoch 3; iter: 0; batch classifier loss: 0.454630; batch adversarial loss: 0.623410\n",
      "epoch 3; iter: 200; batch classifier loss: 0.376638; batch adversarial loss: 0.656070\n",
      "epoch 4; iter: 0; batch classifier loss: 0.479788; batch adversarial loss: 0.646955\n",
      "epoch 4; iter: 200; batch classifier loss: 0.461533; batch adversarial loss: 0.652033\n",
      "epoch 5; iter: 0; batch classifier loss: 0.495995; batch adversarial loss: 0.675527\n",
      "epoch 5; iter: 200; batch classifier loss: 0.493316; batch adversarial loss: 0.586511\n",
      "epoch 6; iter: 0; batch classifier loss: 0.624426; batch adversarial loss: 0.637648\n",
      "epoch 6; iter: 200; batch classifier loss: 0.468802; batch adversarial loss: 0.631592\n",
      "epoch 7; iter: 0; batch classifier loss: 0.391903; batch adversarial loss: 0.603916\n",
      "epoch 7; iter: 200; batch classifier loss: 0.437449; batch adversarial loss: 0.617656\n",
      "epoch 8; iter: 0; batch classifier loss: 0.477520; batch adversarial loss: 0.639723\n",
      "epoch 8; iter: 200; batch classifier loss: 0.487251; batch adversarial loss: 0.607368\n",
      "epoch 9; iter: 0; batch classifier loss: 0.494739; batch adversarial loss: 0.684039\n",
      "epoch 9; iter: 200; batch classifier loss: 0.442367; batch adversarial loss: 0.640723\n",
      "epoch 10; iter: 0; batch classifier loss: 0.434553; batch adversarial loss: 0.732078\n",
      "epoch 10; iter: 200; batch classifier loss: 0.452824; batch adversarial loss: 0.639187\n",
      "epoch 11; iter: 0; batch classifier loss: 0.495283; batch adversarial loss: 0.623777\n",
      "epoch 11; iter: 200; batch classifier loss: 0.426319; batch adversarial loss: 0.573647\n",
      "epoch 12; iter: 0; batch classifier loss: 0.410790; batch adversarial loss: 0.618046\n",
      "epoch 12; iter: 200; batch classifier loss: 0.485726; batch adversarial loss: 0.616750\n",
      "epoch 13; iter: 0; batch classifier loss: 0.425719; batch adversarial loss: 0.570298\n",
      "epoch 13; iter: 200; batch classifier loss: 0.466720; batch adversarial loss: 0.559718\n",
      "epoch 14; iter: 0; batch classifier loss: 0.547927; batch adversarial loss: 0.633253\n",
      "epoch 14; iter: 200; batch classifier loss: 0.384017; batch adversarial loss: 0.645091\n",
      "epoch 15; iter: 0; batch classifier loss: 0.377043; batch adversarial loss: 0.601360\n",
      "epoch 15; iter: 200; batch classifier loss: 0.476910; batch adversarial loss: 0.547814\n",
      "epoch 16; iter: 0; batch classifier loss: 0.388597; batch adversarial loss: 0.603264\n",
      "epoch 16; iter: 200; batch classifier loss: 0.392205; batch adversarial loss: 0.694040\n",
      "epoch 17; iter: 0; batch classifier loss: 0.452394; batch adversarial loss: 0.644249\n",
      "epoch 17; iter: 200; batch classifier loss: 0.373727; batch adversarial loss: 0.611349\n",
      "epoch 18; iter: 0; batch classifier loss: 0.410486; batch adversarial loss: 0.656285\n",
      "epoch 18; iter: 200; batch classifier loss: 0.378033; batch adversarial loss: 0.638583\n",
      "epoch 19; iter: 0; batch classifier loss: 0.490993; batch adversarial loss: 0.642399\n",
      "epoch 19; iter: 200; batch classifier loss: 0.525123; batch adversarial loss: 0.587913\n",
      "epoch 20; iter: 0; batch classifier loss: 0.370926; batch adversarial loss: 0.609586\n",
      "epoch 20; iter: 200; batch classifier loss: 0.426600; batch adversarial loss: 0.590450\n",
      "epoch 21; iter: 0; batch classifier loss: 0.417237; batch adversarial loss: 0.628475\n",
      "epoch 21; iter: 200; batch classifier loss: 0.366502; batch adversarial loss: 0.537845\n",
      "epoch 22; iter: 0; batch classifier loss: 0.430871; batch adversarial loss: 0.602013\n",
      "epoch 22; iter: 200; batch classifier loss: 0.400970; batch adversarial loss: 0.591448\n",
      "epoch 23; iter: 0; batch classifier loss: 0.503216; batch adversarial loss: 0.541557\n",
      "epoch 23; iter: 200; batch classifier loss: 0.487234; batch adversarial loss: 0.626961\n",
      "epoch 24; iter: 0; batch classifier loss: 0.416758; batch adversarial loss: 0.697309\n",
      "epoch 24; iter: 200; batch classifier loss: 0.441605; batch adversarial loss: 0.567367\n",
      "epoch 25; iter: 0; batch classifier loss: 0.433278; batch adversarial loss: 0.589548\n",
      "epoch 25; iter: 200; batch classifier loss: 0.392947; batch adversarial loss: 0.544761\n",
      "epoch 26; iter: 0; batch classifier loss: 0.493364; batch adversarial loss: 0.632711\n",
      "epoch 26; iter: 200; batch classifier loss: 0.460265; batch adversarial loss: 0.593247\n",
      "epoch 27; iter: 0; batch classifier loss: 0.491514; batch adversarial loss: 0.632286\n",
      "epoch 27; iter: 200; batch classifier loss: 0.368111; batch adversarial loss: 0.671743\n",
      "epoch 28; iter: 0; batch classifier loss: 0.382531; batch adversarial loss: 0.554038\n",
      "epoch 28; iter: 200; batch classifier loss: 0.457376; batch adversarial loss: 0.660250\n",
      "epoch 29; iter: 0; batch classifier loss: 0.395024; batch adversarial loss: 0.598601\n",
      "epoch 29; iter: 200; batch classifier loss: 0.376569; batch adversarial loss: 0.584997\n",
      "epoch 30; iter: 0; batch classifier loss: 0.383886; batch adversarial loss: 0.563862\n",
      "epoch 30; iter: 200; batch classifier loss: 0.466312; batch adversarial loss: 0.618648\n",
      "epoch 31; iter: 0; batch classifier loss: 0.442306; batch adversarial loss: 0.630001\n",
      "epoch 31; iter: 200; batch classifier loss: 0.383512; batch adversarial loss: 0.667453\n",
      "epoch 32; iter: 0; batch classifier loss: 0.420045; batch adversarial loss: 0.620696\n",
      "epoch 32; iter: 200; batch classifier loss: 0.430145; batch adversarial loss: 0.610974\n",
      "epoch 33; iter: 0; batch classifier loss: 0.439020; batch adversarial loss: 0.667442\n",
      "epoch 33; iter: 200; batch classifier loss: 0.488311; batch adversarial loss: 0.617493\n",
      "epoch 34; iter: 0; batch classifier loss: 0.368834; batch adversarial loss: 0.594064\n",
      "epoch 34; iter: 200; batch classifier loss: 0.419922; batch adversarial loss: 0.573617\n",
      "epoch 35; iter: 0; batch classifier loss: 0.425127; batch adversarial loss: 0.598975\n",
      "epoch 35; iter: 200; batch classifier loss: 0.458403; batch adversarial loss: 0.570567\n",
      "epoch 36; iter: 0; batch classifier loss: 0.370337; batch adversarial loss: 0.598081\n",
      "epoch 36; iter: 200; batch classifier loss: 0.401125; batch adversarial loss: 0.608597\n",
      "epoch 37; iter: 0; batch classifier loss: 0.405348; batch adversarial loss: 0.572590\n",
      "epoch 37; iter: 200; batch classifier loss: 0.405004; batch adversarial loss: 0.553684\n",
      "epoch 38; iter: 0; batch classifier loss: 0.429620; batch adversarial loss: 0.567796\n",
      "epoch 38; iter: 200; batch classifier loss: 0.528470; batch adversarial loss: 0.626518\n",
      "epoch 39; iter: 0; batch classifier loss: 0.427897; batch adversarial loss: 0.637907\n",
      "epoch 39; iter: 200; batch classifier loss: 0.438865; batch adversarial loss: 0.625587\n",
      "epoch 40; iter: 0; batch classifier loss: 0.506946; batch adversarial loss: 0.527941\n",
      "epoch 40; iter: 200; batch classifier loss: 0.443292; batch adversarial loss: 0.554372\n",
      "epoch 41; iter: 0; batch classifier loss: 0.480959; batch adversarial loss: 0.564805\n",
      "epoch 41; iter: 200; batch classifier loss: 0.374112; batch adversarial loss: 0.613934\n",
      "epoch 42; iter: 0; batch classifier loss: 0.440669; batch adversarial loss: 0.685899\n",
      "epoch 42; iter: 200; batch classifier loss: 0.358474; batch adversarial loss: 0.644434\n",
      "epoch 43; iter: 0; batch classifier loss: 0.412856; batch adversarial loss: 0.559562\n",
      "epoch 43; iter: 200; batch classifier loss: 0.452105; batch adversarial loss: 0.638095\n",
      "epoch 44; iter: 0; batch classifier loss: 0.429667; batch adversarial loss: 0.600695\n",
      "epoch 44; iter: 200; batch classifier loss: 0.501291; batch adversarial loss: 0.629136\n",
      "epoch 45; iter: 0; batch classifier loss: 0.392042; batch adversarial loss: 0.589896\n",
      "epoch 45; iter: 200; batch classifier loss: 0.425986; batch adversarial loss: 0.549982\n",
      "epoch 46; iter: 0; batch classifier loss: 0.462867; batch adversarial loss: 0.568375\n",
      "epoch 46; iter: 200; batch classifier loss: 0.477582; batch adversarial loss: 0.547415\n",
      "epoch 47; iter: 0; batch classifier loss: 0.490583; batch adversarial loss: 0.590163\n",
      "epoch 47; iter: 200; batch classifier loss: 0.430857; batch adversarial loss: 0.660100\n",
      "epoch 48; iter: 0; batch classifier loss: 0.407000; batch adversarial loss: 0.621159\n",
      "epoch 48; iter: 200; batch classifier loss: 0.473254; batch adversarial loss: 0.595026\n",
      "epoch 49; iter: 0; batch classifier loss: 0.389381; batch adversarial loss: 0.634199\n",
      "epoch 49; iter: 200; batch classifier loss: 0.473562; batch adversarial loss: 0.548873\n"
     ]
    },
    {
     "data": {
      "text/plain": [
       "<aif360.algorithms.inprocessing.adversarial_debiasing.AdversarialDebiasing at 0x7facf2993f70>"
      ]
     },
     "execution_count": 12,
     "metadata": {},
     "output_type": "execute_result"
    }
   ],
   "source": [
    "debiased_model.fit(dataset_orig_train)"
   ]
  },
  {
   "cell_type": "code",
   "execution_count": 13,
   "metadata": {},
   "outputs": [],
   "source": [
    "# Apply the plain model to test data\n",
    "dataset_debiasing_train = debiased_model.predict(dataset_orig_train)\n",
    "dataset_debiasing_test = debiased_model.predict(dataset_orig_test)"
   ]
  },
  {
   "cell_type": "code",
   "execution_count": 14,
   "metadata": {},
   "outputs": [
    {
     "data": {
      "text/markdown": [
       "#### Plain model - without debiasing - dataset metrics"
      ],
      "text/plain": [
       "<IPython.core.display.Markdown object>"
      ]
     },
     "metadata": {},
     "output_type": "display_data"
    },
    {
     "name": "stdout",
     "output_type": "stream",
     "text": [
      "Train set: Difference in mean outcomes between unprivileged and privileged groups = -0.209759\n",
      "Test set: Difference in mean outcomes between unprivileged and privileged groups = -0.208469\n"
     ]
    },
    {
     "data": {
      "text/markdown": [
       "#### Model - with debiasing - dataset metrics"
      ],
      "text/plain": [
       "<IPython.core.display.Markdown object>"
      ]
     },
     "metadata": {},
     "output_type": "display_data"
    },
    {
     "name": "stdout",
     "output_type": "stream",
     "text": [
      "Train set: Difference in mean outcomes between unprivileged and privileged groups = -0.083154\n",
      "Test set: Difference in mean outcomes between unprivileged and privileged groups = -0.092502\n"
     ]
    },
    {
     "data": {
      "text/markdown": [
       "#### Plain model - without debiasing - classification metrics"
      ],
      "text/plain": [
       "<IPython.core.display.Markdown object>"
      ]
     },
     "metadata": {},
     "output_type": "display_data"
    },
    {
     "name": "stdout",
     "output_type": "stream",
     "text": [
      "Test set: Classification accuracy = 0.804340\n",
      "Test set: Balanced classification accuracy = 0.659100\n",
      "Test set: Disparate impact = 0.000000\n",
      "Test set: Equal opportunity difference = -0.444296\n",
      "Test set: Average odds difference = -0.274412\n",
      "Test set: Theil_index = 0.178448\n"
     ]
    },
    {
     "data": {
      "text/markdown": [
       "#### Model - with debiasing - classification metrics"
      ],
      "text/plain": [
       "<IPython.core.display.Markdown object>"
      ]
     },
     "metadata": {},
     "output_type": "display_data"
    },
    {
     "name": "stdout",
     "output_type": "stream",
     "text": [
      "Test set: Classification accuracy = 0.792124\n",
      "Test set: Balanced classification accuracy = 0.666756\n",
      "Test set: Disparate impact = 0.546513\n",
      "Test set: Equal opportunity difference = -0.067570\n",
      "Test set: Average odds difference = -0.043176\n",
      "Test set: Theil_index = 0.172993\n"
     ]
    }
   ],
   "source": [
    "# Metrics for the dataset from plain model (without debiasing)\n",
    "display(Markdown(\"#### Plain model - without debiasing - dataset metrics\"))\n",
    "print(\"Train set: Difference in mean outcomes between unprivileged and privileged groups = %f\" % metric_dataset_nodebiasing_train.mean_difference())\n",
    "print(\"Test set: Difference in mean outcomes between unprivileged and privileged groups = %f\" % metric_dataset_nodebiasing_test.mean_difference())\n",
    "\n",
    "# Metrics for the dataset from model with debiasing\n",
    "display(Markdown(\"#### Model - with debiasing - dataset metrics\"))\n",
    "metric_dataset_debiasing_train = BinaryLabelDatasetMetric(dataset_debiasing_train, \n",
    "                                             unprivileged_groups=unprivileged_groups,\n",
    "                                             privileged_groups=privileged_groups)\n",
    "\n",
    "print(\"Train set: Difference in mean outcomes between unprivileged and privileged groups = %f\" % metric_dataset_debiasing_train.mean_difference())\n",
    "\n",
    "metric_dataset_debiasing_test = BinaryLabelDatasetMetric(dataset_debiasing_test, \n",
    "                                             unprivileged_groups=unprivileged_groups,\n",
    "                                             privileged_groups=privileged_groups)\n",
    "\n",
    "print(\"Test set: Difference in mean outcomes between unprivileged and privileged groups = %f\" % metric_dataset_debiasing_test.mean_difference())\n",
    "\n",
    "\n",
    "\n",
    "display(Markdown(\"#### Plain model - without debiasing - classification metrics\"))\n",
    "print(\"Test set: Classification accuracy = %f\" % classified_metric_nodebiasing_test.accuracy())\n",
    "TPR = classified_metric_nodebiasing_test.true_positive_rate()\n",
    "TNR = classified_metric_nodebiasing_test.true_negative_rate()\n",
    "bal_acc_nodebiasing_test = 0.5*(TPR+TNR)\n",
    "print(\"Test set: Balanced classification accuracy = %f\" % bal_acc_nodebiasing_test)\n",
    "print(\"Test set: Disparate impact = %f\" % classified_metric_nodebiasing_test.disparate_impact())\n",
    "print(\"Test set: Equal opportunity difference = %f\" % classified_metric_nodebiasing_test.equal_opportunity_difference())\n",
    "print(\"Test set: Average odds difference = %f\" % classified_metric_nodebiasing_test.average_odds_difference())\n",
    "print(\"Test set: Theil_index = %f\" % classified_metric_nodebiasing_test.theil_index())\n",
    "\n",
    "\n",
    "\n",
    "display(Markdown(\"#### Model - with debiasing - classification metrics\"))\n",
    "classified_metric_debiasing_test = ClassificationMetric(dataset_orig_test, \n",
    "                                                 dataset_debiasing_test,\n",
    "                                                 unprivileged_groups=unprivileged_groups,\n",
    "                                                 privileged_groups=privileged_groups)\n",
    "print(\"Test set: Classification accuracy = %f\" % classified_metric_debiasing_test.accuracy())\n",
    "TPR = classified_metric_debiasing_test.true_positive_rate()\n",
    "TNR = classified_metric_debiasing_test.true_negative_rate()\n",
    "bal_acc_debiasing_test = 0.5*(TPR+TNR)\n",
    "print(\"Test set: Balanced classification accuracy = %f\" % bal_acc_debiasing_test)\n",
    "print(\"Test set: Disparate impact = %f\" % classified_metric_debiasing_test.disparate_impact())\n",
    "print(\"Test set: Equal opportunity difference = %f\" % classified_metric_debiasing_test.equal_opportunity_difference())\n",
    "print(\"Test set: Average odds difference = %f\" % classified_metric_debiasing_test.average_odds_difference())\n",
    "print(\"Test set: Theil_index = %f\" % classified_metric_debiasing_test.theil_index())"
   ]
  },
  {
   "cell_type": "markdown",
   "metadata": {},
   "source": [
    "\n",
    "    References:\n",
    "    [1] B. H. Zhang, B. Lemoine, and M. Mitchell, \"Mitigating UnwantedBiases with Adversarial Learning,\" \n",
    "    AAAI/ACM Conference on Artificial Intelligence, Ethics, and Society, 2018."
   ]
  },
  {
   "cell_type": "code",
   "execution_count": null,
   "metadata": {},
   "outputs": [],
   "source": []
  }
 ],
 "metadata": {
  "kernelspec": {
   "display_name": "Python 3.10.6 ('fair-ML')",
   "language": "python",
   "name": "python3"
  },
  "language_info": {
   "codemirror_mode": {
    "name": "ipython",
    "version": 3
   },
   "file_extension": ".py",
   "mimetype": "text/x-python",
   "name": "python",
   "nbconvert_exporter": "python",
   "pygments_lexer": "ipython3",
   "version": "3.10.6"
  },
  "vscode": {
   "interpreter": {
    "hash": "0646381eb061ee7893835682a62ef866835a212f0fa32ea5e46413dcbeb946ff"
   }
  }
 },
 "nbformat": 4,
 "nbformat_minor": 2
}
